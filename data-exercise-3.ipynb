{
 "cells": [
  {
   "cell_type": "markdown",
   "metadata": {},
   "source": [
    "# Create a hierarchical clustering plot of your chosen features\n",
    "\n",
    "In a previous exercise, you created a subset of the ABCD 3.0 release that included 1,000 randomly chosen subjects and 20 hand selected features.\n",
    "\n",
    "After this notebook is run you should be able to:\n",
    "1. summarize the datatypes of the features that you selected.\n",
    "1. inspect correlations between your selected features.\n",
    "1. install and import a new python library.\n",
    "1. measure the similarity between two data records that contain both continuous and categorical data.\n",
    "1. visualize this similarity using a hierarchical clustering plot"
   ]
  },
  {
   "cell_type": "markdown",
   "metadata": {},
   "source": [
    "### Import all libraries\n",
    "By convention all libraries being used are read in at the top of a notebook/script."
   ]
  },
  {
   "cell_type": "code",
   "execution_count": 3,
   "metadata": {},
   "outputs": [],
   "source": [
    "import matplotlib.pyplot as plt  # fine tune control over visualizations\n",
    "import numpy as np  # to manipulate data/generate random numbers\n",
    "import pandas as pd  # to read/manipulate/write data from files\n",
    "import seaborn as sns  # static visualizations\n",
    "\n",
    "from scipy.cluster.hierarchy import cophenet, linkage, dendrogram  # to perform cluster analysis\n",
    "from scipy.spatial.distance import pdist, squareform  # to calculate distances and convert between condensed and square forms of a distance matrix\n",
    "from sklearn.preprocessing import MinMaxScaler  # To standardize our data before clustering"
   ]
  },
  {
   "cell_type": "markdown",
   "metadata": {},
   "source": [
    "Let's recover the subset data that you saved in a previous exercise. You saved that file with something like\n",
    "```\n",
    "subset_df.to_csv(\"my_dataset.tsv\", sep=\"\\t\", index=None)\n",
    "```\n",
    "Can you use the pandas `pd.read_csv` function to load your subset data into the dataframe `subset_df`?\n",
    "<details>\n",
    "<summary>Hint</summary>\n",
    "Try using `pd.read_csv()` with two of the arguments that you used to save the file.\n",
    "</details>"
   ]
  },
  {
   "cell_type": "code",
   "execution_count": 25,
   "metadata": {},
   "outputs": [],
   "source": [
    "subset_df = pd.read_csv(\"subset_df.tsv\", sep=\"\\t\")"
   ]
  },
  {
   "cell_type": "markdown",
   "metadata": {},
   "source": [
    "Let's look at the first five rows of our data just to remind ourselves of what's in there."
   ]
  },
  {
   "cell_type": "code",
   "execution_count": 26,
   "metadata": {},
   "outputs": [
    {
     "data": {
      "text/html": [
       "<div>\n",
       "<style scoped>\n",
       "    .dataframe tbody tr th:only-of-type {\n",
       "        vertical-align: middle;\n",
       "    }\n",
       "\n",
       "    .dataframe tbody tr th {\n",
       "        vertical-align: top;\n",
       "    }\n",
       "\n",
       "    .dataframe thead th {\n",
       "        text-align: right;\n",
       "    }\n",
       "</style>\n",
       "<table border=\"1\" class=\"dataframe\">\n",
       "  <thead>\n",
       "    <tr style=\"text-align: right;\">\n",
       "      <th></th>\n",
       "      <th>subjectkey</th>\n",
       "      <th>interview_date</th>\n",
       "      <th>interview_age</th>\n",
       "      <th>sex</th>\n",
       "      <th>site_id_l</th>\n",
       "      <th>anthroheightcalc</th>\n",
       "      <th>anthroweightcalc</th>\n",
       "      <th>neighborhood_crime_y</th>\n",
       "      <th>ksads_ptsd_raw_763_p</th>\n",
       "      <th>ksads_ptsd_raw_766_p</th>\n",
       "      <th>fes_y_ss_fc_pr</th>\n",
       "      <th>rsfmri_c_ngd_meanmotion</th>\n",
       "      <th>rsfmri_c_ngd_sa_ngd_cgc</th>\n",
       "      <th>rsfmri_c_ngd_sa_ngd_ca</th>\n",
       "      <th>rsfmri_c_ngd_sa_ngd_dt</th>\n",
       "      <th>rsfmri_c_ngd_sa_ngd_dla</th>\n",
       "      <th>rsfmri_c_ngd_sa_ngd_fo</th>\n",
       "      <th>rsfmri_c_ngd_sa_ngd_rspltp</th>\n",
       "      <th>rsfmri_c_ngd_sa_ngd_vta</th>\n",
       "    </tr>\n",
       "  </thead>\n",
       "  <tbody>\n",
       "    <tr>\n",
       "      <th>0</th>\n",
       "      <td>NDAR_INVD96NU5LH</td>\n",
       "      <td>06/08/2017</td>\n",
       "      <td>124</td>\n",
       "      <td>M</td>\n",
       "      <td>site03</td>\n",
       "      <td>56.00</td>\n",
       "      <td>76.00</td>\n",
       "      <td>5.0</td>\n",
       "      <td>0.0</td>\n",
       "      <td>0.0</td>\n",
       "      <td>1.0</td>\n",
       "      <td>0.301207</td>\n",
       "      <td>-0.022696</td>\n",
       "      <td>0.209208</td>\n",
       "      <td>0.126222</td>\n",
       "      <td>-0.096374</td>\n",
       "      <td>0.093038</td>\n",
       "      <td>0.105717</td>\n",
       "      <td>0.063381</td>\n",
       "    </tr>\n",
       "    <tr>\n",
       "      <th>1</th>\n",
       "      <td>NDAR_INVRCV1G0DA</td>\n",
       "      <td>01/12/2018</td>\n",
       "      <td>108</td>\n",
       "      <td>M</td>\n",
       "      <td>site12</td>\n",
       "      <td>53.45</td>\n",
       "      <td>71.10</td>\n",
       "      <td>3.0</td>\n",
       "      <td>0.0</td>\n",
       "      <td>0.0</td>\n",
       "      <td>2.0</td>\n",
       "      <td>0.305773</td>\n",
       "      <td>0.217354</td>\n",
       "      <td>-0.139449</td>\n",
       "      <td>0.130535</td>\n",
       "      <td>0.061122</td>\n",
       "      <td>0.097779</td>\n",
       "      <td>-0.188235</td>\n",
       "      <td>0.224981</td>\n",
       "    </tr>\n",
       "    <tr>\n",
       "      <th>2</th>\n",
       "      <td>NDAR_INVZ3638RYW</td>\n",
       "      <td>06/16/2017</td>\n",
       "      <td>125</td>\n",
       "      <td>M</td>\n",
       "      <td>site10</td>\n",
       "      <td>49.50</td>\n",
       "      <td>59.50</td>\n",
       "      <td>5.0</td>\n",
       "      <td>0.0</td>\n",
       "      <td>0.0</td>\n",
       "      <td>0.0</td>\n",
       "      <td>0.728513</td>\n",
       "      <td>0.136811</td>\n",
       "      <td>0.396846</td>\n",
       "      <td>0.152032</td>\n",
       "      <td>0.117361</td>\n",
       "      <td>0.098187</td>\n",
       "      <td>0.267791</td>\n",
       "      <td>0.162586</td>\n",
       "    </tr>\n",
       "    <tr>\n",
       "      <th>3</th>\n",
       "      <td>NDAR_INVZZ1MNPK5</td>\n",
       "      <td>02/01/2017</td>\n",
       "      <td>124</td>\n",
       "      <td>F</td>\n",
       "      <td>site08</td>\n",
       "      <td>57.30</td>\n",
       "      <td>69.75</td>\n",
       "      <td>5.0</td>\n",
       "      <td>0.0</td>\n",
       "      <td>0.0</td>\n",
       "      <td>4.0</td>\n",
       "      <td>0.215902</td>\n",
       "      <td>0.087874</td>\n",
       "      <td>0.199556</td>\n",
       "      <td>0.087226</td>\n",
       "      <td>0.049012</td>\n",
       "      <td>0.135224</td>\n",
       "      <td>-0.049871</td>\n",
       "      <td>0.034673</td>\n",
       "    </tr>\n",
       "    <tr>\n",
       "      <th>4</th>\n",
       "      <td>NDAR_INV0CCVJ39W</td>\n",
       "      <td>06/27/2017</td>\n",
       "      <td>129</td>\n",
       "      <td>M</td>\n",
       "      <td>site16</td>\n",
       "      <td>60.00</td>\n",
       "      <td>93.00</td>\n",
       "      <td>3.0</td>\n",
       "      <td>0.0</td>\n",
       "      <td>0.0</td>\n",
       "      <td>0.0</td>\n",
       "      <td>0.047396</td>\n",
       "      <td>0.003614</td>\n",
       "      <td>0.074212</td>\n",
       "      <td>0.258914</td>\n",
       "      <td>-0.187553</td>\n",
       "      <td>0.072472</td>\n",
       "      <td>-0.141194</td>\n",
       "      <td>0.232422</td>\n",
       "    </tr>\n",
       "  </tbody>\n",
       "</table>\n",
       "</div>"
      ],
      "text/plain": [
       "         subjectkey interview_date  interview_age sex site_id_l  \\\n",
       "0  NDAR_INVD96NU5LH     06/08/2017            124   M    site03   \n",
       "1  NDAR_INVRCV1G0DA     01/12/2018            108   M    site12   \n",
       "2  NDAR_INVZ3638RYW     06/16/2017            125   M    site10   \n",
       "3  NDAR_INVZZ1MNPK5     02/01/2017            124   F    site08   \n",
       "4  NDAR_INV0CCVJ39W     06/27/2017            129   M    site16   \n",
       "\n",
       "   anthroheightcalc  anthroweightcalc  neighborhood_crime_y  \\\n",
       "0             56.00             76.00                   5.0   \n",
       "1             53.45             71.10                   3.0   \n",
       "2             49.50             59.50                   5.0   \n",
       "3             57.30             69.75                   5.0   \n",
       "4             60.00             93.00                   3.0   \n",
       "\n",
       "   ksads_ptsd_raw_763_p  ksads_ptsd_raw_766_p  fes_y_ss_fc_pr  \\\n",
       "0                   0.0                   0.0             1.0   \n",
       "1                   0.0                   0.0             2.0   \n",
       "2                   0.0                   0.0             0.0   \n",
       "3                   0.0                   0.0             4.0   \n",
       "4                   0.0                   0.0             0.0   \n",
       "\n",
       "   rsfmri_c_ngd_meanmotion  rsfmri_c_ngd_sa_ngd_cgc  rsfmri_c_ngd_sa_ngd_ca  \\\n",
       "0                 0.301207                -0.022696                0.209208   \n",
       "1                 0.305773                 0.217354               -0.139449   \n",
       "2                 0.728513                 0.136811                0.396846   \n",
       "3                 0.215902                 0.087874                0.199556   \n",
       "4                 0.047396                 0.003614                0.074212   \n",
       "\n",
       "   rsfmri_c_ngd_sa_ngd_dt  rsfmri_c_ngd_sa_ngd_dla  rsfmri_c_ngd_sa_ngd_fo  \\\n",
       "0                0.126222                -0.096374                0.093038   \n",
       "1                0.130535                 0.061122                0.097779   \n",
       "2                0.152032                 0.117361                0.098187   \n",
       "3                0.087226                 0.049012                0.135224   \n",
       "4                0.258914                -0.187553                0.072472   \n",
       "\n",
       "   rsfmri_c_ngd_sa_ngd_rspltp  rsfmri_c_ngd_sa_ngd_vta  \n",
       "0                    0.105717                 0.063381  \n",
       "1                   -0.188235                 0.224981  \n",
       "2                    0.267791                 0.162586  \n",
       "3                   -0.049871                 0.034673  \n",
       "4                   -0.141194                 0.232422  "
      ]
     },
     "execution_count": 26,
     "metadata": {},
     "output_type": "execute_result"
    }
   ],
   "source": [
    "subset_df.head()"
   ]
  },
  {
   "cell_type": "markdown",
   "metadata": {},
   "source": [
    "We see that \"subjectkey\" is one of the columns of our dataframe. We should make this column the \"index\" of the dataframe since each row corresponds to a unique subject ID."
   ]
  },
  {
   "cell_type": "code",
   "execution_count": 27,
   "metadata": {},
   "outputs": [],
   "source": [
    "subset_df.set_index(\"subjectkey\", inplace=True)"
   ]
  },
  {
   "cell_type": "markdown",
   "metadata": {},
   "source": [
    "Your `subset_df` dataframe should have a mix of continuous and categorical data.\n",
    "Furthermore, the continuous data might be subdivided into integer and float datatypes.\n",
    "Use the `info()` method of your pandas dataframe to inspect the datatypes of your\n",
    "previously selected features."
   ]
  },
  {
   "cell_type": "code",
   "execution_count": 28,
   "metadata": {},
   "outputs": [
    {
     "name": "stdout",
     "output_type": "stream",
     "text": [
      "<class 'pandas.core.frame.DataFrame'>\n",
      "Index: 1000 entries, NDAR_INVD96NU5LH to NDAR_INV01NAYMZH\n",
      "Data columns (total 18 columns):\n",
      " #   Column                      Non-Null Count  Dtype  \n",
      "---  ------                      --------------  -----  \n",
      " 0   interview_date              1000 non-null   object \n",
      " 1   interview_age               1000 non-null   int64  \n",
      " 2   sex                         1000 non-null   object \n",
      " 3   site_id_l                   1000 non-null   object \n",
      " 4   anthroheightcalc            1000 non-null   float64\n",
      " 5   anthroweightcalc            1000 non-null   float64\n",
      " 6   neighborhood_crime_y        1000 non-null   float64\n",
      " 7   ksads_ptsd_raw_763_p        1000 non-null   float64\n",
      " 8   ksads_ptsd_raw_766_p        1000 non-null   float64\n",
      " 9   fes_y_ss_fc_pr              1000 non-null   float64\n",
      " 10  rsfmri_c_ngd_meanmotion     1000 non-null   float64\n",
      " 11  rsfmri_c_ngd_sa_ngd_cgc     1000 non-null   float64\n",
      " 12  rsfmri_c_ngd_sa_ngd_ca      1000 non-null   float64\n",
      " 13  rsfmri_c_ngd_sa_ngd_dt      1000 non-null   float64\n",
      " 14  rsfmri_c_ngd_sa_ngd_dla     1000 non-null   float64\n",
      " 15  rsfmri_c_ngd_sa_ngd_fo      1000 non-null   float64\n",
      " 16  rsfmri_c_ngd_sa_ngd_rspltp  1000 non-null   float64\n",
      " 17  rsfmri_c_ngd_sa_ngd_vta     1000 non-null   float64\n",
      "dtypes: float64(14), int64(1), object(3)\n",
      "memory usage: 148.4+ KB\n"
     ]
    }
   ],
   "source": [
    "subset_df.info()"
   ]
  },
  {
   "cell_type": "markdown",
   "metadata": {},
   "source": [
    "Your data should be different because you chose different features in the previous exercise. Look at the penultimate line. In this example, we have\n",
    "- nine (14) float type features\n",
    "- six (1) integer type features\n",
    "- four (3) \"object\" type features\n",
    "\n",
    "Those \"object\" type features are strings that encode categorical data.\n",
    "\n",
    "### Converting \"objects\" to \"datetime\" datatypes\n",
    "\n",
    "But wait, \"interview date\" isn't simply categorical data. That column contains strings that represent dates and dates can be treated as different types of data depending on the context. For example, you could treat dates as nominal categorical data if you are only concerned with the day of the week of the interview date. Or you could treat dates as interval data; the starting point is arbitrary but the units are fixed, so that \"12-24\" is not the double of \"6-12\".\n",
    "\n",
    "How you decide to use date data in your project is up to you, but in general it is good practice to let pandas know about date/time datatypes in your dataframe. Can you use the [`pd.to_datetime()`](https://pandas.pydata.org/pandas-docs/stable/reference/api/pandas.to_datetime.html#pandas-to-datetime) function to convert the \"interview_date\" column to a `datetime64` datatype?\n",
    "\n",
    "<details>\n",
    "<summary>Hint</summary>\n",
    "You can modify columns in-place by using the pattern\n",
    "\n",
    "`df[\"column_I_want_to_change\"] = conversion_function(df[\"column_I_want_to_change\"])`\n",
    "</details>"
   ]
  },
  {
   "cell_type": "code",
   "execution_count": 35,
   "metadata": {},
   "outputs": [],
   "source": [
    "# convert interview_date to a datetime64 datatime\n",
    "subset_df[\"interview_date\"] = pd.to_datetime(subset_df[\"interview_date\"])\n",
    "\n",
    "# convert ksads variables to be integers (int64type) (should be 0 or 1)\n",
    "subset_df[\"ksads_ptsd_raw_763_p\"] = subset_df[\"ksads_ptsd_raw_763_p\"].astype(np.int64)\n",
    "subset_df[\"ksads_ptsd_raw_766_p\"] = subset_df[\"ksads_ptsd_raw_766_p\"].astype(np.int64)"
   ]
  },
  {
   "cell_type": "markdown",
   "metadata": {},
   "source": [
    "Now let's look at the first few rows again. You can see that the \"interview_date\" column entries changed format but the underlying content is preserved."
   ]
  },
  {
   "cell_type": "code",
   "execution_count": 36,
   "metadata": {},
   "outputs": [
    {
     "data": {
      "text/html": [
       "<div>\n",
       "<style scoped>\n",
       "    .dataframe tbody tr th:only-of-type {\n",
       "        vertical-align: middle;\n",
       "    }\n",
       "\n",
       "    .dataframe tbody tr th {\n",
       "        vertical-align: top;\n",
       "    }\n",
       "\n",
       "    .dataframe thead th {\n",
       "        text-align: right;\n",
       "    }\n",
       "</style>\n",
       "<table border=\"1\" class=\"dataframe\">\n",
       "  <thead>\n",
       "    <tr style=\"text-align: right;\">\n",
       "      <th></th>\n",
       "      <th>interview_date</th>\n",
       "      <th>interview_age</th>\n",
       "      <th>sex</th>\n",
       "      <th>site_id_l</th>\n",
       "      <th>anthroheightcalc</th>\n",
       "      <th>anthroweightcalc</th>\n",
       "      <th>neighborhood_crime_y</th>\n",
       "      <th>ksads_ptsd_raw_763_p</th>\n",
       "      <th>ksads_ptsd_raw_766_p</th>\n",
       "      <th>fes_y_ss_fc_pr</th>\n",
       "      <th>rsfmri_c_ngd_meanmotion</th>\n",
       "      <th>rsfmri_c_ngd_sa_ngd_cgc</th>\n",
       "      <th>rsfmri_c_ngd_sa_ngd_ca</th>\n",
       "      <th>rsfmri_c_ngd_sa_ngd_dt</th>\n",
       "      <th>rsfmri_c_ngd_sa_ngd_dla</th>\n",
       "      <th>rsfmri_c_ngd_sa_ngd_fo</th>\n",
       "      <th>rsfmri_c_ngd_sa_ngd_rspltp</th>\n",
       "      <th>rsfmri_c_ngd_sa_ngd_vta</th>\n",
       "    </tr>\n",
       "    <tr>\n",
       "      <th>subjectkey</th>\n",
       "      <th></th>\n",
       "      <th></th>\n",
       "      <th></th>\n",
       "      <th></th>\n",
       "      <th></th>\n",
       "      <th></th>\n",
       "      <th></th>\n",
       "      <th></th>\n",
       "      <th></th>\n",
       "      <th></th>\n",
       "      <th></th>\n",
       "      <th></th>\n",
       "      <th></th>\n",
       "      <th></th>\n",
       "      <th></th>\n",
       "      <th></th>\n",
       "      <th></th>\n",
       "      <th></th>\n",
       "    </tr>\n",
       "  </thead>\n",
       "  <tbody>\n",
       "    <tr>\n",
       "      <th>NDAR_INVD96NU5LH</th>\n",
       "      <td>2017-06-08</td>\n",
       "      <td>124</td>\n",
       "      <td>M</td>\n",
       "      <td>site03</td>\n",
       "      <td>56.00</td>\n",
       "      <td>76.00</td>\n",
       "      <td>5.0</td>\n",
       "      <td>0</td>\n",
       "      <td>0</td>\n",
       "      <td>1.0</td>\n",
       "      <td>0.301207</td>\n",
       "      <td>-0.022696</td>\n",
       "      <td>0.209208</td>\n",
       "      <td>0.126222</td>\n",
       "      <td>-0.096374</td>\n",
       "      <td>0.093038</td>\n",
       "      <td>0.105717</td>\n",
       "      <td>0.063381</td>\n",
       "    </tr>\n",
       "    <tr>\n",
       "      <th>NDAR_INVRCV1G0DA</th>\n",
       "      <td>2018-01-12</td>\n",
       "      <td>108</td>\n",
       "      <td>M</td>\n",
       "      <td>site12</td>\n",
       "      <td>53.45</td>\n",
       "      <td>71.10</td>\n",
       "      <td>3.0</td>\n",
       "      <td>0</td>\n",
       "      <td>0</td>\n",
       "      <td>2.0</td>\n",
       "      <td>0.305773</td>\n",
       "      <td>0.217354</td>\n",
       "      <td>-0.139449</td>\n",
       "      <td>0.130535</td>\n",
       "      <td>0.061122</td>\n",
       "      <td>0.097779</td>\n",
       "      <td>-0.188235</td>\n",
       "      <td>0.224981</td>\n",
       "    </tr>\n",
       "    <tr>\n",
       "      <th>NDAR_INVZ3638RYW</th>\n",
       "      <td>2017-06-16</td>\n",
       "      <td>125</td>\n",
       "      <td>M</td>\n",
       "      <td>site10</td>\n",
       "      <td>49.50</td>\n",
       "      <td>59.50</td>\n",
       "      <td>5.0</td>\n",
       "      <td>0</td>\n",
       "      <td>0</td>\n",
       "      <td>0.0</td>\n",
       "      <td>0.728513</td>\n",
       "      <td>0.136811</td>\n",
       "      <td>0.396846</td>\n",
       "      <td>0.152032</td>\n",
       "      <td>0.117361</td>\n",
       "      <td>0.098187</td>\n",
       "      <td>0.267791</td>\n",
       "      <td>0.162586</td>\n",
       "    </tr>\n",
       "    <tr>\n",
       "      <th>NDAR_INVZZ1MNPK5</th>\n",
       "      <td>2017-02-01</td>\n",
       "      <td>124</td>\n",
       "      <td>F</td>\n",
       "      <td>site08</td>\n",
       "      <td>57.30</td>\n",
       "      <td>69.75</td>\n",
       "      <td>5.0</td>\n",
       "      <td>0</td>\n",
       "      <td>0</td>\n",
       "      <td>4.0</td>\n",
       "      <td>0.215902</td>\n",
       "      <td>0.087874</td>\n",
       "      <td>0.199556</td>\n",
       "      <td>0.087226</td>\n",
       "      <td>0.049012</td>\n",
       "      <td>0.135224</td>\n",
       "      <td>-0.049871</td>\n",
       "      <td>0.034673</td>\n",
       "    </tr>\n",
       "    <tr>\n",
       "      <th>NDAR_INV0CCVJ39W</th>\n",
       "      <td>2017-06-27</td>\n",
       "      <td>129</td>\n",
       "      <td>M</td>\n",
       "      <td>site16</td>\n",
       "      <td>60.00</td>\n",
       "      <td>93.00</td>\n",
       "      <td>3.0</td>\n",
       "      <td>0</td>\n",
       "      <td>0</td>\n",
       "      <td>0.0</td>\n",
       "      <td>0.047396</td>\n",
       "      <td>0.003614</td>\n",
       "      <td>0.074212</td>\n",
       "      <td>0.258914</td>\n",
       "      <td>-0.187553</td>\n",
       "      <td>0.072472</td>\n",
       "      <td>-0.141194</td>\n",
       "      <td>0.232422</td>\n",
       "    </tr>\n",
       "  </tbody>\n",
       "</table>\n",
       "</div>"
      ],
      "text/plain": [
       "                 interview_date  interview_age sex site_id_l  \\\n",
       "subjectkey                                                     \n",
       "NDAR_INVD96NU5LH     2017-06-08            124   M    site03   \n",
       "NDAR_INVRCV1G0DA     2018-01-12            108   M    site12   \n",
       "NDAR_INVZ3638RYW     2017-06-16            125   M    site10   \n",
       "NDAR_INVZZ1MNPK5     2017-02-01            124   F    site08   \n",
       "NDAR_INV0CCVJ39W     2017-06-27            129   M    site16   \n",
       "\n",
       "                  anthroheightcalc  anthroweightcalc  neighborhood_crime_y  \\\n",
       "subjectkey                                                                   \n",
       "NDAR_INVD96NU5LH             56.00             76.00                   5.0   \n",
       "NDAR_INVRCV1G0DA             53.45             71.10                   3.0   \n",
       "NDAR_INVZ3638RYW             49.50             59.50                   5.0   \n",
       "NDAR_INVZZ1MNPK5             57.30             69.75                   5.0   \n",
       "NDAR_INV0CCVJ39W             60.00             93.00                   3.0   \n",
       "\n",
       "                  ksads_ptsd_raw_763_p  ksads_ptsd_raw_766_p  fes_y_ss_fc_pr  \\\n",
       "subjectkey                                                                     \n",
       "NDAR_INVD96NU5LH                     0                     0             1.0   \n",
       "NDAR_INVRCV1G0DA                     0                     0             2.0   \n",
       "NDAR_INVZ3638RYW                     0                     0             0.0   \n",
       "NDAR_INVZZ1MNPK5                     0                     0             4.0   \n",
       "NDAR_INV0CCVJ39W                     0                     0             0.0   \n",
       "\n",
       "                  rsfmri_c_ngd_meanmotion  rsfmri_c_ngd_sa_ngd_cgc  \\\n",
       "subjectkey                                                           \n",
       "NDAR_INVD96NU5LH                 0.301207                -0.022696   \n",
       "NDAR_INVRCV1G0DA                 0.305773                 0.217354   \n",
       "NDAR_INVZ3638RYW                 0.728513                 0.136811   \n",
       "NDAR_INVZZ1MNPK5                 0.215902                 0.087874   \n",
       "NDAR_INV0CCVJ39W                 0.047396                 0.003614   \n",
       "\n",
       "                  rsfmri_c_ngd_sa_ngd_ca  rsfmri_c_ngd_sa_ngd_dt  \\\n",
       "subjectkey                                                         \n",
       "NDAR_INVD96NU5LH                0.209208                0.126222   \n",
       "NDAR_INVRCV1G0DA               -0.139449                0.130535   \n",
       "NDAR_INVZ3638RYW                0.396846                0.152032   \n",
       "NDAR_INVZZ1MNPK5                0.199556                0.087226   \n",
       "NDAR_INV0CCVJ39W                0.074212                0.258914   \n",
       "\n",
       "                  rsfmri_c_ngd_sa_ngd_dla  rsfmri_c_ngd_sa_ngd_fo  \\\n",
       "subjectkey                                                          \n",
       "NDAR_INVD96NU5LH                -0.096374                0.093038   \n",
       "NDAR_INVRCV1G0DA                 0.061122                0.097779   \n",
       "NDAR_INVZ3638RYW                 0.117361                0.098187   \n",
       "NDAR_INVZZ1MNPK5                 0.049012                0.135224   \n",
       "NDAR_INV0CCVJ39W                -0.187553                0.072472   \n",
       "\n",
       "                  rsfmri_c_ngd_sa_ngd_rspltp  rsfmri_c_ngd_sa_ngd_vta  \n",
       "subjectkey                                                             \n",
       "NDAR_INVD96NU5LH                    0.105717                 0.063381  \n",
       "NDAR_INVRCV1G0DA                   -0.188235                 0.224981  \n",
       "NDAR_INVZ3638RYW                    0.267791                 0.162586  \n",
       "NDAR_INVZZ1MNPK5                   -0.049871                 0.034673  \n",
       "NDAR_INV0CCVJ39W                   -0.141194                 0.232422  "
      ]
     },
     "execution_count": 36,
     "metadata": {},
     "output_type": "execute_result"
    }
   ],
   "source": [
    "subset_df.head()"
   ]
  },
  {
   "cell_type": "markdown",
   "metadata": {},
   "source": [
    "And you can use `subset_df.info()` to confirm that \"interview_date\" now has the type `datetime64` and the ksads variables now have the type `int64`"
   ]
  },
  {
   "cell_type": "code",
   "execution_count": 37,
   "metadata": {},
   "outputs": [
    {
     "name": "stdout",
     "output_type": "stream",
     "text": [
      "<class 'pandas.core.frame.DataFrame'>\n",
      "Index: 1000 entries, NDAR_INVD96NU5LH to NDAR_INV01NAYMZH\n",
      "Data columns (total 18 columns):\n",
      " #   Column                      Non-Null Count  Dtype         \n",
      "---  ------                      --------------  -----         \n",
      " 0   interview_date              1000 non-null   datetime64[ns]\n",
      " 1   interview_age               1000 non-null   int64         \n",
      " 2   sex                         1000 non-null   object        \n",
      " 3   site_id_l                   1000 non-null   object        \n",
      " 4   anthroheightcalc            1000 non-null   float64       \n",
      " 5   anthroweightcalc            1000 non-null   float64       \n",
      " 6   neighborhood_crime_y        1000 non-null   float64       \n",
      " 7   ksads_ptsd_raw_763_p        1000 non-null   int64         \n",
      " 8   ksads_ptsd_raw_766_p        1000 non-null   int64         \n",
      " 9   fes_y_ss_fc_pr              1000 non-null   float64       \n",
      " 10  rsfmri_c_ngd_meanmotion     1000 non-null   float64       \n",
      " 11  rsfmri_c_ngd_sa_ngd_cgc     1000 non-null   float64       \n",
      " 12  rsfmri_c_ngd_sa_ngd_ca      1000 non-null   float64       \n",
      " 13  rsfmri_c_ngd_sa_ngd_dt      1000 non-null   float64       \n",
      " 14  rsfmri_c_ngd_sa_ngd_dla     1000 non-null   float64       \n",
      " 15  rsfmri_c_ngd_sa_ngd_fo      1000 non-null   float64       \n",
      " 16  rsfmri_c_ngd_sa_ngd_rspltp  1000 non-null   float64       \n",
      " 17  rsfmri_c_ngd_sa_ngd_vta     1000 non-null   float64       \n",
      "dtypes: datetime64[ns](1), float64(12), int64(3), object(2)\n",
      "memory usage: 148.4+ KB\n"
     ]
    }
   ],
   "source": [
    "subset_df.info()"
   ]
  },
  {
   "cell_type": "markdown",
   "metadata": {},
   "source": [
    "Now rename the columns to have more sensible names."
   ]
  },
  {
   "cell_type": "code",
   "execution_count": 38,
   "metadata": {},
   "outputs": [],
   "source": [
    "subset_df = subset_df.rename(columns={'fes_y_ss_fc_pr': 'fes_conflict', \n",
    "                                      'ksads_ptsd_raw_763_p': 'ksads_physabuse',\n",
    "                                     'ksads_ptsd_raw_766_p': 'ksads_dv',\n",
    "                                     'rsfmri_c_ngd_meanmotion': 'rsfmri_meanfd',\n",
    "                                     'rsfmri_c_ngd_sa_ngd_cgc': 'r_sal_cingop',\n",
    "                                     'rsfmri_c_ngd_sa_ngd_ca': 'r_sal_cingpar',\n",
    "                                     'rsfmri_c_ngd_sa_ngd_dt': 'r_sal_default',\n",
    "                                     'rsfmri_c_ngd_sa_ngd_dla': 'r_sal_dorsattn',\n",
    "                                     'rsfmri_c_ngd_sa_ngd_fo': 'r_sal_frontpar',\n",
    "                                     'rsfmri_c_ngd_sa_ngd_rspltp': 'r_sal_rsplentmp',\n",
    "                                     'rsfmri_c_ngd_sa_ngd_vta': 'r_sal_ventattn'})"
   ]
  },
  {
   "cell_type": "markdown",
   "metadata": {},
   "source": [
    "And you can use `subset_df.info()` to confirm that the variable names have been changed."
   ]
  },
  {
   "cell_type": "code",
   "execution_count": 40,
   "metadata": {},
   "outputs": [
    {
     "name": "stdout",
     "output_type": "stream",
     "text": [
      "<class 'pandas.core.frame.DataFrame'>\n",
      "Index: 1000 entries, NDAR_INVD96NU5LH to NDAR_INV01NAYMZH\n",
      "Data columns (total 18 columns):\n",
      " #   Column                Non-Null Count  Dtype         \n",
      "---  ------                --------------  -----         \n",
      " 0   interview_date        1000 non-null   datetime64[ns]\n",
      " 1   interview_age         1000 non-null   int64         \n",
      " 2   sex                   1000 non-null   object        \n",
      " 3   site_id_l             1000 non-null   object        \n",
      " 4   anthroheightcalc      1000 non-null   float64       \n",
      " 5   anthroweightcalc      1000 non-null   float64       \n",
      " 6   neighborhood_crime_y  1000 non-null   float64       \n",
      " 7   ksads_physabuse       1000 non-null   int64         \n",
      " 8   ksads_dv              1000 non-null   int64         \n",
      " 9   fes_conflict          1000 non-null   float64       \n",
      " 10  rsfmri_meanfd         1000 non-null   float64       \n",
      " 11  r_sal_cingop          1000 non-null   float64       \n",
      " 12  r_sal_cingpar         1000 non-null   float64       \n",
      " 13  r_sal_default         1000 non-null   float64       \n",
      " 14  r_sal_dorsattn        1000 non-null   float64       \n",
      " 15  r_sal_frontpar        1000 non-null   float64       \n",
      " 16  r_sal_rsplentmp       1000 non-null   float64       \n",
      " 17  r_sal_ventattn        1000 non-null   float64       \n",
      "dtypes: datetime64[ns](1), float64(12), int64(3), object(2)\n",
      "memory usage: 148.4+ KB\n"
     ]
    }
   ],
   "source": [
    "subset_df.info()"
   ]
  },
  {
   "cell_type": "markdown",
   "metadata": {},
   "source": [
    "## Examining the correlations between different features\n",
    "\n",
    "Now that we've prepared our subset dataframe, we'd like to understand which features are similar and which are dissimilar. We may wish to group certain features together and apply different rules to these separate groups rather that to the individual features. In machine learning, this process is called clustering and there is an expansive literature on the subject that is well beyond the scope of this notebook.\n",
    "\n",
    "For our purposes, we will compute the similarity between different features and then visualize using a hierarchical clustering plot. We will call the similarity between two features (or two subjects for that matter) a \"distance.\" When computing distances, it is important to standardize the data to avoid dependence on the datatypes or the choice of measurement units. We will attempt to standardize our data so that the maximum distance between subjects for any given feature is 1.0 and the minimum distance is 0.0.\n",
    "\n",
    "### Categorical features\n",
    "\n",
    "We will start by separating our subset data into different datatypes.\n",
    "\n",
    "To begin with, let's separate out our categorical data. We can do this using the [`select_dtypes()`](https://pandas.pydata.org/pandas-docs/stable/reference/api/pandas.DataFrame.select_dtypes.html#pandas-dataframe-select-dtypes) method of our `subset_df` dataframe."
   ]
  },
  {
   "cell_type": "code",
   "execution_count": 41,
   "metadata": {},
   "outputs": [
    {
     "name": "stdout",
     "output_type": "stream",
     "text": [
      "<class 'pandas.core.frame.DataFrame'>\n",
      "Index: 1000 entries, NDAR_INVD96NU5LH to NDAR_INV01NAYMZH\n",
      "Data columns (total 2 columns):\n",
      " #   Column     Non-Null Count  Dtype \n",
      "---  ------     --------------  ----- \n",
      " 0   sex        1000 non-null   object\n",
      " 1   site_id_l  1000 non-null   object\n",
      "dtypes: object(2)\n",
      "memory usage: 23.4+ KB\n"
     ]
    }
   ],
   "source": [
    "cat_df = subset_df.select_dtypes(include=[\"object\"])\n",
    "cat_df.info()"
   ]
  },
  {
   "cell_type": "code",
   "execution_count": 42,
   "metadata": {},
   "outputs": [
    {
     "data": {
      "text/html": [
       "<div>\n",
       "<style scoped>\n",
       "    .dataframe tbody tr th:only-of-type {\n",
       "        vertical-align: middle;\n",
       "    }\n",
       "\n",
       "    .dataframe tbody tr th {\n",
       "        vertical-align: top;\n",
       "    }\n",
       "\n",
       "    .dataframe thead th {\n",
       "        text-align: right;\n",
       "    }\n",
       "</style>\n",
       "<table border=\"1\" class=\"dataframe\">\n",
       "  <thead>\n",
       "    <tr style=\"text-align: right;\">\n",
       "      <th></th>\n",
       "      <th>sex</th>\n",
       "      <th>site_id_l</th>\n",
       "    </tr>\n",
       "    <tr>\n",
       "      <th>subjectkey</th>\n",
       "      <th></th>\n",
       "      <th></th>\n",
       "    </tr>\n",
       "  </thead>\n",
       "  <tbody>\n",
       "    <tr>\n",
       "      <th>NDAR_INVD96NU5LH</th>\n",
       "      <td>M</td>\n",
       "      <td>site03</td>\n",
       "    </tr>\n",
       "    <tr>\n",
       "      <th>NDAR_INVRCV1G0DA</th>\n",
       "      <td>M</td>\n",
       "      <td>site12</td>\n",
       "    </tr>\n",
       "    <tr>\n",
       "      <th>NDAR_INVZ3638RYW</th>\n",
       "      <td>M</td>\n",
       "      <td>site10</td>\n",
       "    </tr>\n",
       "    <tr>\n",
       "      <th>NDAR_INVZZ1MNPK5</th>\n",
       "      <td>F</td>\n",
       "      <td>site08</td>\n",
       "    </tr>\n",
       "    <tr>\n",
       "      <th>NDAR_INV0CCVJ39W</th>\n",
       "      <td>M</td>\n",
       "      <td>site16</td>\n",
       "    </tr>\n",
       "  </tbody>\n",
       "</table>\n",
       "</div>"
      ],
      "text/plain": [
       "                 sex site_id_l\n",
       "subjectkey                    \n",
       "NDAR_INVD96NU5LH   M    site03\n",
       "NDAR_INVRCV1G0DA   M    site12\n",
       "NDAR_INVZ3638RYW   M    site10\n",
       "NDAR_INVZZ1MNPK5   F    site08\n",
       "NDAR_INV0CCVJ39W   M    site16"
      ]
     },
     "execution_count": 42,
     "metadata": {},
     "output_type": "execute_result"
    }
   ],
   "source": [
    "cat_df.head()"
   ]
  },
  {
   "cell_type": "markdown",
   "metadata": {},
   "source": [
    "We can convert the text-based categorical features into a larger binary feature space using the [`pd.get_dummies()`](https://pandas.pydata.org/pandas-docs/stable/reference/api/pandas.get_dummies.html#pandas-get-dummies) function. This converts the categorical variables into indicator variables. We will use the `drop_first` parameter to get $k-1$ indicator variables out of $k$ categorical variables."
   ]
  },
  {
   "cell_type": "code",
   "execution_count": 43,
   "metadata": {},
   "outputs": [],
   "source": [
    "cat_features = pd.get_dummies(cat_df, drop_first=True)"
   ]
  },
  {
   "cell_type": "code",
   "execution_count": 44,
   "metadata": {},
   "outputs": [
    {
     "data": {
      "text/html": [
       "<div>\n",
       "<style scoped>\n",
       "    .dataframe tbody tr th:only-of-type {\n",
       "        vertical-align: middle;\n",
       "    }\n",
       "\n",
       "    .dataframe tbody tr th {\n",
       "        vertical-align: top;\n",
       "    }\n",
       "\n",
       "    .dataframe thead th {\n",
       "        text-align: right;\n",
       "    }\n",
       "</style>\n",
       "<table border=\"1\" class=\"dataframe\">\n",
       "  <thead>\n",
       "    <tr style=\"text-align: right;\">\n",
       "      <th></th>\n",
       "      <th>sex_M</th>\n",
       "      <th>site_id_l_site02</th>\n",
       "      <th>site_id_l_site03</th>\n",
       "      <th>site_id_l_site04</th>\n",
       "      <th>site_id_l_site05</th>\n",
       "      <th>site_id_l_site06</th>\n",
       "      <th>site_id_l_site07</th>\n",
       "      <th>site_id_l_site08</th>\n",
       "      <th>site_id_l_site09</th>\n",
       "      <th>site_id_l_site10</th>\n",
       "      <th>...</th>\n",
       "      <th>site_id_l_site13</th>\n",
       "      <th>site_id_l_site14</th>\n",
       "      <th>site_id_l_site15</th>\n",
       "      <th>site_id_l_site16</th>\n",
       "      <th>site_id_l_site17</th>\n",
       "      <th>site_id_l_site18</th>\n",
       "      <th>site_id_l_site19</th>\n",
       "      <th>site_id_l_site20</th>\n",
       "      <th>site_id_l_site21</th>\n",
       "      <th>site_id_l_site22</th>\n",
       "    </tr>\n",
       "    <tr>\n",
       "      <th>subjectkey</th>\n",
       "      <th></th>\n",
       "      <th></th>\n",
       "      <th></th>\n",
       "      <th></th>\n",
       "      <th></th>\n",
       "      <th></th>\n",
       "      <th></th>\n",
       "      <th></th>\n",
       "      <th></th>\n",
       "      <th></th>\n",
       "      <th></th>\n",
       "      <th></th>\n",
       "      <th></th>\n",
       "      <th></th>\n",
       "      <th></th>\n",
       "      <th></th>\n",
       "      <th></th>\n",
       "      <th></th>\n",
       "      <th></th>\n",
       "      <th></th>\n",
       "      <th></th>\n",
       "    </tr>\n",
       "  </thead>\n",
       "  <tbody>\n",
       "    <tr>\n",
       "      <th>NDAR_INVD96NU5LH</th>\n",
       "      <td>1</td>\n",
       "      <td>0</td>\n",
       "      <td>1</td>\n",
       "      <td>0</td>\n",
       "      <td>0</td>\n",
       "      <td>0</td>\n",
       "      <td>0</td>\n",
       "      <td>0</td>\n",
       "      <td>0</td>\n",
       "      <td>0</td>\n",
       "      <td>...</td>\n",
       "      <td>0</td>\n",
       "      <td>0</td>\n",
       "      <td>0</td>\n",
       "      <td>0</td>\n",
       "      <td>0</td>\n",
       "      <td>0</td>\n",
       "      <td>0</td>\n",
       "      <td>0</td>\n",
       "      <td>0</td>\n",
       "      <td>0</td>\n",
       "    </tr>\n",
       "    <tr>\n",
       "      <th>NDAR_INVRCV1G0DA</th>\n",
       "      <td>1</td>\n",
       "      <td>0</td>\n",
       "      <td>0</td>\n",
       "      <td>0</td>\n",
       "      <td>0</td>\n",
       "      <td>0</td>\n",
       "      <td>0</td>\n",
       "      <td>0</td>\n",
       "      <td>0</td>\n",
       "      <td>0</td>\n",
       "      <td>...</td>\n",
       "      <td>0</td>\n",
       "      <td>0</td>\n",
       "      <td>0</td>\n",
       "      <td>0</td>\n",
       "      <td>0</td>\n",
       "      <td>0</td>\n",
       "      <td>0</td>\n",
       "      <td>0</td>\n",
       "      <td>0</td>\n",
       "      <td>0</td>\n",
       "    </tr>\n",
       "    <tr>\n",
       "      <th>NDAR_INVZ3638RYW</th>\n",
       "      <td>1</td>\n",
       "      <td>0</td>\n",
       "      <td>0</td>\n",
       "      <td>0</td>\n",
       "      <td>0</td>\n",
       "      <td>0</td>\n",
       "      <td>0</td>\n",
       "      <td>0</td>\n",
       "      <td>0</td>\n",
       "      <td>1</td>\n",
       "      <td>...</td>\n",
       "      <td>0</td>\n",
       "      <td>0</td>\n",
       "      <td>0</td>\n",
       "      <td>0</td>\n",
       "      <td>0</td>\n",
       "      <td>0</td>\n",
       "      <td>0</td>\n",
       "      <td>0</td>\n",
       "      <td>0</td>\n",
       "      <td>0</td>\n",
       "    </tr>\n",
       "    <tr>\n",
       "      <th>NDAR_INVZZ1MNPK5</th>\n",
       "      <td>0</td>\n",
       "      <td>0</td>\n",
       "      <td>0</td>\n",
       "      <td>0</td>\n",
       "      <td>0</td>\n",
       "      <td>0</td>\n",
       "      <td>0</td>\n",
       "      <td>1</td>\n",
       "      <td>0</td>\n",
       "      <td>0</td>\n",
       "      <td>...</td>\n",
       "      <td>0</td>\n",
       "      <td>0</td>\n",
       "      <td>0</td>\n",
       "      <td>0</td>\n",
       "      <td>0</td>\n",
       "      <td>0</td>\n",
       "      <td>0</td>\n",
       "      <td>0</td>\n",
       "      <td>0</td>\n",
       "      <td>0</td>\n",
       "    </tr>\n",
       "    <tr>\n",
       "      <th>NDAR_INV0CCVJ39W</th>\n",
       "      <td>1</td>\n",
       "      <td>0</td>\n",
       "      <td>0</td>\n",
       "      <td>0</td>\n",
       "      <td>0</td>\n",
       "      <td>0</td>\n",
       "      <td>0</td>\n",
       "      <td>0</td>\n",
       "      <td>0</td>\n",
       "      <td>0</td>\n",
       "      <td>...</td>\n",
       "      <td>0</td>\n",
       "      <td>0</td>\n",
       "      <td>0</td>\n",
       "      <td>1</td>\n",
       "      <td>0</td>\n",
       "      <td>0</td>\n",
       "      <td>0</td>\n",
       "      <td>0</td>\n",
       "      <td>0</td>\n",
       "      <td>0</td>\n",
       "    </tr>\n",
       "    <tr>\n",
       "      <th>...</th>\n",
       "      <td>...</td>\n",
       "      <td>...</td>\n",
       "      <td>...</td>\n",
       "      <td>...</td>\n",
       "      <td>...</td>\n",
       "      <td>...</td>\n",
       "      <td>...</td>\n",
       "      <td>...</td>\n",
       "      <td>...</td>\n",
       "      <td>...</td>\n",
       "      <td>...</td>\n",
       "      <td>...</td>\n",
       "      <td>...</td>\n",
       "      <td>...</td>\n",
       "      <td>...</td>\n",
       "      <td>...</td>\n",
       "      <td>...</td>\n",
       "      <td>...</td>\n",
       "      <td>...</td>\n",
       "      <td>...</td>\n",
       "      <td>...</td>\n",
       "    </tr>\n",
       "    <tr>\n",
       "      <th>NDAR_INVVC130UV5</th>\n",
       "      <td>1</td>\n",
       "      <td>0</td>\n",
       "      <td>0</td>\n",
       "      <td>0</td>\n",
       "      <td>0</td>\n",
       "      <td>0</td>\n",
       "      <td>0</td>\n",
       "      <td>0</td>\n",
       "      <td>0</td>\n",
       "      <td>0</td>\n",
       "      <td>...</td>\n",
       "      <td>0</td>\n",
       "      <td>0</td>\n",
       "      <td>0</td>\n",
       "      <td>0</td>\n",
       "      <td>0</td>\n",
       "      <td>0</td>\n",
       "      <td>0</td>\n",
       "      <td>1</td>\n",
       "      <td>0</td>\n",
       "      <td>0</td>\n",
       "    </tr>\n",
       "    <tr>\n",
       "      <th>NDAR_INV2WBR17KG</th>\n",
       "      <td>0</td>\n",
       "      <td>0</td>\n",
       "      <td>0</td>\n",
       "      <td>0</td>\n",
       "      <td>0</td>\n",
       "      <td>0</td>\n",
       "      <td>0</td>\n",
       "      <td>0</td>\n",
       "      <td>0</td>\n",
       "      <td>0</td>\n",
       "      <td>...</td>\n",
       "      <td>0</td>\n",
       "      <td>0</td>\n",
       "      <td>0</td>\n",
       "      <td>0</td>\n",
       "      <td>1</td>\n",
       "      <td>0</td>\n",
       "      <td>0</td>\n",
       "      <td>0</td>\n",
       "      <td>0</td>\n",
       "      <td>0</td>\n",
       "    </tr>\n",
       "    <tr>\n",
       "      <th>NDAR_INV005V6D2C</th>\n",
       "      <td>0</td>\n",
       "      <td>0</td>\n",
       "      <td>0</td>\n",
       "      <td>0</td>\n",
       "      <td>0</td>\n",
       "      <td>0</td>\n",
       "      <td>0</td>\n",
       "      <td>0</td>\n",
       "      <td>0</td>\n",
       "      <td>1</td>\n",
       "      <td>...</td>\n",
       "      <td>0</td>\n",
       "      <td>0</td>\n",
       "      <td>0</td>\n",
       "      <td>0</td>\n",
       "      <td>0</td>\n",
       "      <td>0</td>\n",
       "      <td>0</td>\n",
       "      <td>0</td>\n",
       "      <td>0</td>\n",
       "      <td>0</td>\n",
       "    </tr>\n",
       "    <tr>\n",
       "      <th>NDAR_INVNFWYZZJR</th>\n",
       "      <td>1</td>\n",
       "      <td>0</td>\n",
       "      <td>0</td>\n",
       "      <td>0</td>\n",
       "      <td>0</td>\n",
       "      <td>0</td>\n",
       "      <td>0</td>\n",
       "      <td>0</td>\n",
       "      <td>0</td>\n",
       "      <td>0</td>\n",
       "      <td>...</td>\n",
       "      <td>0</td>\n",
       "      <td>0</td>\n",
       "      <td>0</td>\n",
       "      <td>0</td>\n",
       "      <td>0</td>\n",
       "      <td>0</td>\n",
       "      <td>0</td>\n",
       "      <td>0</td>\n",
       "      <td>0</td>\n",
       "      <td>0</td>\n",
       "    </tr>\n",
       "    <tr>\n",
       "      <th>NDAR_INV01NAYMZH</th>\n",
       "      <td>1</td>\n",
       "      <td>0</td>\n",
       "      <td>0</td>\n",
       "      <td>0</td>\n",
       "      <td>0</td>\n",
       "      <td>0</td>\n",
       "      <td>0</td>\n",
       "      <td>0</td>\n",
       "      <td>0</td>\n",
       "      <td>0</td>\n",
       "      <td>...</td>\n",
       "      <td>0</td>\n",
       "      <td>0</td>\n",
       "      <td>0</td>\n",
       "      <td>1</td>\n",
       "      <td>0</td>\n",
       "      <td>0</td>\n",
       "      <td>0</td>\n",
       "      <td>0</td>\n",
       "      <td>0</td>\n",
       "      <td>0</td>\n",
       "    </tr>\n",
       "  </tbody>\n",
       "</table>\n",
       "<p>1000 rows × 22 columns</p>\n",
       "</div>"
      ],
      "text/plain": [
       "                  sex_M  site_id_l_site02  site_id_l_site03  site_id_l_site04  \\\n",
       "subjectkey                                                                      \n",
       "NDAR_INVD96NU5LH      1                 0                 1                 0   \n",
       "NDAR_INVRCV1G0DA      1                 0                 0                 0   \n",
       "NDAR_INVZ3638RYW      1                 0                 0                 0   \n",
       "NDAR_INVZZ1MNPK5      0                 0                 0                 0   \n",
       "NDAR_INV0CCVJ39W      1                 0                 0                 0   \n",
       "...                 ...               ...               ...               ...   \n",
       "NDAR_INVVC130UV5      1                 0                 0                 0   \n",
       "NDAR_INV2WBR17KG      0                 0                 0                 0   \n",
       "NDAR_INV005V6D2C      0                 0                 0                 0   \n",
       "NDAR_INVNFWYZZJR      1                 0                 0                 0   \n",
       "NDAR_INV01NAYMZH      1                 0                 0                 0   \n",
       "\n",
       "                  site_id_l_site05  site_id_l_site06  site_id_l_site07  \\\n",
       "subjectkey                                                               \n",
       "NDAR_INVD96NU5LH                 0                 0                 0   \n",
       "NDAR_INVRCV1G0DA                 0                 0                 0   \n",
       "NDAR_INVZ3638RYW                 0                 0                 0   \n",
       "NDAR_INVZZ1MNPK5                 0                 0                 0   \n",
       "NDAR_INV0CCVJ39W                 0                 0                 0   \n",
       "...                            ...               ...               ...   \n",
       "NDAR_INVVC130UV5                 0                 0                 0   \n",
       "NDAR_INV2WBR17KG                 0                 0                 0   \n",
       "NDAR_INV005V6D2C                 0                 0                 0   \n",
       "NDAR_INVNFWYZZJR                 0                 0                 0   \n",
       "NDAR_INV01NAYMZH                 0                 0                 0   \n",
       "\n",
       "                  site_id_l_site08  site_id_l_site09  site_id_l_site10  ...  \\\n",
       "subjectkey                                                              ...   \n",
       "NDAR_INVD96NU5LH                 0                 0                 0  ...   \n",
       "NDAR_INVRCV1G0DA                 0                 0                 0  ...   \n",
       "NDAR_INVZ3638RYW                 0                 0                 1  ...   \n",
       "NDAR_INVZZ1MNPK5                 1                 0                 0  ...   \n",
       "NDAR_INV0CCVJ39W                 0                 0                 0  ...   \n",
       "...                            ...               ...               ...  ...   \n",
       "NDAR_INVVC130UV5                 0                 0                 0  ...   \n",
       "NDAR_INV2WBR17KG                 0                 0                 0  ...   \n",
       "NDAR_INV005V6D2C                 0                 0                 1  ...   \n",
       "NDAR_INVNFWYZZJR                 0                 0                 0  ...   \n",
       "NDAR_INV01NAYMZH                 0                 0                 0  ...   \n",
       "\n",
       "                  site_id_l_site13  site_id_l_site14  site_id_l_site15  \\\n",
       "subjectkey                                                               \n",
       "NDAR_INVD96NU5LH                 0                 0                 0   \n",
       "NDAR_INVRCV1G0DA                 0                 0                 0   \n",
       "NDAR_INVZ3638RYW                 0                 0                 0   \n",
       "NDAR_INVZZ1MNPK5                 0                 0                 0   \n",
       "NDAR_INV0CCVJ39W                 0                 0                 0   \n",
       "...                            ...               ...               ...   \n",
       "NDAR_INVVC130UV5                 0                 0                 0   \n",
       "NDAR_INV2WBR17KG                 0                 0                 0   \n",
       "NDAR_INV005V6D2C                 0                 0                 0   \n",
       "NDAR_INVNFWYZZJR                 0                 0                 0   \n",
       "NDAR_INV01NAYMZH                 0                 0                 0   \n",
       "\n",
       "                  site_id_l_site16  site_id_l_site17  site_id_l_site18  \\\n",
       "subjectkey                                                               \n",
       "NDAR_INVD96NU5LH                 0                 0                 0   \n",
       "NDAR_INVRCV1G0DA                 0                 0                 0   \n",
       "NDAR_INVZ3638RYW                 0                 0                 0   \n",
       "NDAR_INVZZ1MNPK5                 0                 0                 0   \n",
       "NDAR_INV0CCVJ39W                 1                 0                 0   \n",
       "...                            ...               ...               ...   \n",
       "NDAR_INVVC130UV5                 0                 0                 0   \n",
       "NDAR_INV2WBR17KG                 0                 1                 0   \n",
       "NDAR_INV005V6D2C                 0                 0                 0   \n",
       "NDAR_INVNFWYZZJR                 0                 0                 0   \n",
       "NDAR_INV01NAYMZH                 1                 0                 0   \n",
       "\n",
       "                  site_id_l_site19  site_id_l_site20  site_id_l_site21  \\\n",
       "subjectkey                                                               \n",
       "NDAR_INVD96NU5LH                 0                 0                 0   \n",
       "NDAR_INVRCV1G0DA                 0                 0                 0   \n",
       "NDAR_INVZ3638RYW                 0                 0                 0   \n",
       "NDAR_INVZZ1MNPK5                 0                 0                 0   \n",
       "NDAR_INV0CCVJ39W                 0                 0                 0   \n",
       "...                            ...               ...               ...   \n",
       "NDAR_INVVC130UV5                 0                 1                 0   \n",
       "NDAR_INV2WBR17KG                 0                 0                 0   \n",
       "NDAR_INV005V6D2C                 0                 0                 0   \n",
       "NDAR_INVNFWYZZJR                 0                 0                 0   \n",
       "NDAR_INV01NAYMZH                 0                 0                 0   \n",
       "\n",
       "                  site_id_l_site22  \n",
       "subjectkey                          \n",
       "NDAR_INVD96NU5LH                 0  \n",
       "NDAR_INVRCV1G0DA                 0  \n",
       "NDAR_INVZ3638RYW                 0  \n",
       "NDAR_INVZZ1MNPK5                 0  \n",
       "NDAR_INV0CCVJ39W                 0  \n",
       "...                            ...  \n",
       "NDAR_INVVC130UV5                 0  \n",
       "NDAR_INV2WBR17KG                 0  \n",
       "NDAR_INV005V6D2C                 0  \n",
       "NDAR_INVNFWYZZJR                 0  \n",
       "NDAR_INV01NAYMZH                 0  \n",
       "\n",
       "[1000 rows x 22 columns]"
      ]
     },
     "execution_count": 44,
     "metadata": {},
     "output_type": "execute_result"
    }
   ],
   "source": [
    "cat_features"
   ]
  },
  {
   "cell_type": "markdown",
   "metadata": {},
   "source": [
    "### Numerical and ordinal features\n",
    "\n",
    "Now we're going to select the numerical and ordinal features together. There is extensive debate in the mathematics and statistics communities on how best to treat ordinal data (e.g. treating it as qualitative or quantitative). The best answer is always ***it depends***. For pedagogical simplicity, we are going to combine the numerical and ordinal features and scale them to the range [0, 1].\n",
    "\n",
    "Use the same `select_dtypes()` method to create a dataframe with the numerical and ordinal features. Store this dataframe in the variable `num_df`.\n",
    "\n",
    "<details>\n",
    "<summary>Hint</summary>\n",
    "You can supply a list to `select_dtypes()` to select both the \"int64\" and \"float64\" types.\n",
    "</details>"
   ]
  },
  {
   "cell_type": "code",
   "execution_count": 45,
   "metadata": {},
   "outputs": [],
   "source": [
    "# Insert code to create `num_df` from only the numerical and ordinal features of `subset_df`.\n",
    "num_df = subset_df.select_dtypes(include=[\"int64\", \"float64\"])"
   ]
  },
  {
   "cell_type": "markdown",
   "metadata": {},
   "source": [
    "Use the `info()` method to confirm that we selected only the features we want."
   ]
  },
  {
   "cell_type": "code",
   "execution_count": 46,
   "metadata": {},
   "outputs": [
    {
     "name": "stdout",
     "output_type": "stream",
     "text": [
      "<class 'pandas.core.frame.DataFrame'>\n",
      "Index: 1000 entries, NDAR_INVD96NU5LH to NDAR_INV01NAYMZH\n",
      "Data columns (total 15 columns):\n",
      " #   Column                Non-Null Count  Dtype  \n",
      "---  ------                --------------  -----  \n",
      " 0   interview_age         1000 non-null   int64  \n",
      " 1   anthroheightcalc      1000 non-null   float64\n",
      " 2   anthroweightcalc      1000 non-null   float64\n",
      " 3   neighborhood_crime_y  1000 non-null   float64\n",
      " 4   ksads_physabuse       1000 non-null   int64  \n",
      " 5   ksads_dv              1000 non-null   int64  \n",
      " 6   fes_conflict          1000 non-null   float64\n",
      " 7   rsfmri_meanfd         1000 non-null   float64\n",
      " 8   r_sal_cingop          1000 non-null   float64\n",
      " 9   r_sal_cingpar         1000 non-null   float64\n",
      " 10  r_sal_default         1000 non-null   float64\n",
      " 11  r_sal_dorsattn        1000 non-null   float64\n",
      " 12  r_sal_frontpar        1000 non-null   float64\n",
      " 13  r_sal_rsplentmp       1000 non-null   float64\n",
      " 14  r_sal_ventattn        1000 non-null   float64\n",
      "dtypes: float64(12), int64(3)\n",
      "memory usage: 125.0+ KB\n"
     ]
    }
   ],
   "source": [
    "num_df.info()"
   ]
  },
  {
   "cell_type": "markdown",
   "metadata": {},
   "source": [
    "The estimable [scikit-learn library](https://sklearn.org/) provides many common utility functions for scaling and standardizing data. We will use the [`MinMaxScaler`](https://sklearn.org/modules/generated/sklearn.preprocessing.MinMaxScaler.html#sklearn.preprocessing.MinMaxScaler) to scale our numerical features to lie between zero and one."
   ]
  },
  {
   "cell_type": "code",
   "execution_count": 48,
   "metadata": {},
   "outputs": [],
   "source": [
    "# Scale standardisation of numerical values\n",
    "minmax = MinMaxScaler(feature_range=(0, 1))\n",
    "\n",
    "num_features = pd.DataFrame(\n",
    "    minmax.fit_transform(num_df),\n",
    "    index=num_df.index,\n",
    "    columns=num_df.columns)"
   ]
  },
  {
   "cell_type": "markdown",
   "metadata": {},
   "source": [
    "And then concatenate our categorical and numerical features into a new dataframe called `df_scaled`."
   ]
  },
  {
   "cell_type": "code",
   "execution_count": 49,
   "metadata": {},
   "outputs": [
    {
     "name": "stdout",
     "output_type": "stream",
     "text": [
      "Data min, max: (0.0, 1.0000000000000002)\n"
     ]
    }
   ],
   "source": [
    "df_scaled = pd.concat([num_features, cat_features], axis=\"columns\")\n",
    "\n",
    "# Confirm that all data lies between zero and one.\n",
    "print(f\"Data min, max: {df_scaled.min().min(), df_scaled.max().max()}\")"
   ]
  },
  {
   "cell_type": "markdown",
   "metadata": {},
   "source": [
    "### Choosing an appropriate distance metric\n",
    "\n",
    "Finally, we need to provide some notion of distance between different points in our dataset. ***Different distances are appropriate for different datatypes.*** For example, it is common to use the Euclidean distance or Manhattan distance for numerical datatypes and dice distance for categorical variables. For those, you could rely on the scipy function [`scipy.spatial.distance.pdist`](https://docs.scipy.org/doc/scipy/reference/generated/scipy.spatial.distance.pdist.html#scipy.spatial.distance.pdist) to generate the distance matrices.\n",
    "\n",
    "Since we have a mix of categorical and numerical features, we will use the [Gower's distance](https://www.jstor.org/stable/2528823?seq=1), which was proposed in 1971 as a measure of dissimilarity with mixed types of variables.\n",
    "\n",
    "We could write our own Python function to compute the Gower's distance, but one should always ask ***\"is there a pre-existing package that will do this for me?\"*** And of course, the answer is YES. There is a package called `gower` that will compute the Gower's distance matrix for us. It isn't available on the jupyterhub by default (and you might not have it on your local system).\n",
    "\n",
    "But we can install software without ever leaving the jupyter notebook. You can execute Terminal commands in the notebook cells by prepending an exclamation point/bang(!) to the beginning of the command. Let's install the gower package."
   ]
  },
  {
   "cell_type": "code",
   "execution_count": 50,
   "metadata": {},
   "outputs": [
    {
     "name": "stdout",
     "output_type": "stream",
     "text": [
      "Requirement already satisfied: gower in /opt/conda/lib/python3.8/site-packages (0.0.5)\n",
      "Requirement already satisfied: scipy in /opt/conda/lib/python3.8/site-packages (from gower) (1.5.3)\n",
      "Requirement already satisfied: numpy in /opt/conda/lib/python3.8/site-packages (from gower) (1.19.4)\n",
      "Requirement already satisfied: numpy in /opt/conda/lib/python3.8/site-packages (from gower) (1.19.4)\n"
     ]
    }
   ],
   "source": [
    "!pip install gower"
   ]
  },
  {
   "cell_type": "markdown",
   "metadata": {},
   "source": [
    "Now that we have `gower` installed, let's import it."
   ]
  },
  {
   "cell_type": "code",
   "execution_count": 51,
   "metadata": {},
   "outputs": [],
   "source": [
    "import gower"
   ]
  },
  {
   "cell_type": "markdown",
   "metadata": {},
   "source": [
    "Great! Let's compute that distance matrix. One commonly seen convention is to name the distance matrix `Y` and, later on, name the hierarchical clustering data `Z`.\n",
    "\n",
    "In a typical use case, one wishes to cluster individuals into different groups and we would do this by passing in the feature matrix stored in `df_scaled`. However, because we are clustering features, not subjects, we will pass in the transpose of the feature matrix. You can get the transpose of `df_scaled` using the `.T` attribute."
   ]
  },
  {
   "cell_type": "code",
   "execution_count": 52,
   "metadata": {},
   "outputs": [],
   "source": [
    "# Get the Gower's distance matrix\n",
    "Y = gower.gower_matrix(df_scaled.T).astype(np.float64)"
   ]
  },
  {
   "cell_type": "markdown",
   "metadata": {},
   "source": [
    "Let's quickly examine the structure of the distance matrix using matplotlib's `plt.matshow()` function. We can see that there is apparent banding in the distance matrix."
   ]
  },
  {
   "cell_type": "code",
   "execution_count": 53,
   "metadata": {},
   "outputs": [
    {
     "data": {
      "text/plain": [
       "<matplotlib.image.AxesImage at 0x7fb69cc351c0>"
      ]
     },
     "execution_count": 53,
     "metadata": {},
     "output_type": "execute_result"
    },
    {
     "data": {
      "image/png": "[encoded data removed]",
      "text/plain": [
       "<Figure size 288x288 with 1 Axes>"
      ]
     },
     "metadata": {
      "needs_background": "light"
     },
     "output_type": "display_data"
    }
   ],
   "source": [
    "plt.matshow(Y)"
   ]
  },
  {
   "cell_type": "markdown",
   "metadata": {},
   "source": [
    "There's a better way to visualize clustering in this distance matrix. The scipy library has a function, `scipy.cluster.hierarchy.linkage` which will perform hierarchical/agglomerative clustering given a distance matrix. It requires the distance matrix to be in \"condensed\" form and scipy also gives us a handy convenience function to covert from our \"uncondensed\" distance matrix to a condensed array."
   ]
  },
  {
   "cell_type": "code",
   "execution_count": 54,
   "metadata": {},
   "outputs": [],
   "source": [
    "# That result was in \"uncondensed form\". Let's use a scipy convenience\n",
    "# function to convert it into a condensed array form. This stores only\n",
    "# the upper triangular part since `Y` is a symmetric matrix.\n",
    "Y = squareform(Y)"
   ]
  },
  {
   "cell_type": "markdown",
   "metadata": {},
   "source": [
    "Now we can use `linkage` to perform the hierarchical clustering of our feature space."
   ]
  },
  {
   "cell_type": "code",
   "execution_count": 55,
   "metadata": {},
   "outputs": [],
   "source": [
    "Z = linkage(Y, method=\"complete\", optimal_ordering=True)"
   ]
  },
  {
   "cell_type": "markdown",
   "metadata": {},
   "source": [
    "$Z$ is a $(p - 1) \\times 4$ matrix, where $p$ is the number of features in our scaled dataset. Here's how to interpret $Z$:\n",
    "- At the $i$-th iteration, the sub-clusters with indices $Z[i, 0]$ and $Z[i, 1]$ combine to form a new cluster.\n",
    "- If $Z[i, 0]$ or $Z[i, 1]$ is less than $p$, then that index refers to one of the original features\n",
    "- The distance between clusters $Z[i, 0]$ and $Z[i, 1]$ is stored in $Z[i, 2]$.\n",
    "- The fourth value $Z[i, 3]$ contains the number of original observations in the newly formed cluster."
   ]
  },
  {
   "cell_type": "markdown",
   "metadata": {},
   "source": [
    "That sounds like pretty complicated output, but we can use scipy's `dendrogram` function to visualize the heirarchical clustering using a [dendrogram](https://en.wikipedia.org/wiki/Dendrogram). The height of each bracket is representative of the distance between features or subclusters."
   ]
  },
  {
   "cell_type": "code",
   "execution_count": 57,
   "metadata": {},
   "outputs": [
    {
     "data": {
      "image/png": "[encoded data removed]",
      "text/plain": [
       "<Figure size 1440x504 with 1 Axes>"
      ]
     },
     "metadata": {
      "needs_background": "light"
     },
     "output_type": "display_data"
    }
   ],
   "source": [
    "fig, ax = plt.subplots(1, 1, figsize=(20, 7))\n",
    "dn = dendrogram(\n",
    "    Z,\n",
    "    ax=ax,\n",
    "    orientation=\"top\",\n",
    "    distance_sort='descending',\n",
    "    show_leaf_counts=True,\n",
    ")\n",
    "\n",
    "# `dn[\"ivl\"] stores a list of the feature indices in the order they appear on the x axis.\n",
    "# Let's label the x-axis using the actual feature names rather than the indices\n",
    "_ = ax.set_xticklabels(\n",
    "    [list(df_scaled.columns)[int(i)] for i in dn[\"ivl\"]],\n",
    "    rotation=90,\n",
    "    fontsize=16,\n",
    ")\n",
    "\n",
    "yticks = np.linspace(0.0, 0.8, 5)\n",
    "_ = ax.set_yticks(yticks)\n",
    "_ = ax.set_yticklabels([round(y, 1) for y in yticks], fontsize=16)"
   ]
  },
  {
   "cell_type": "markdown",
   "metadata": {},
   "source": [
    "There's a lot going on here. One thing we notice immediately is that there are two pairs of KSADS features with zero distance between them. That is, the length of the vertical lines connecting [\"ksads_13_929_t\", \"ksads_25_33_t] and [\"ksads_1_2_t\", \"ksads_8_29_t] are negligible. We can verify this using seaborn's `pairplot` function."
   ]
  },
  {
   "cell_type": "code",
   "execution_count": 61,
   "metadata": {},
   "outputs": [
    {
     "data": {
      "image/png": "[encoded data removed]",
      "text/plain": [
       "<Figure size 720x720 with 20 Axes>"
      ]
     },
     "metadata": {
      "needs_background": "light"
     },
     "output_type": "display_data"
    }
   ],
   "source": [
    "_ = sns.pairplot(\n",
    "    subset_df,\n",
    "    vars=[\"r_sal_default\", \"r_sal_rsplentmp\", \"r_sal_cingpar\", \"neighborhood_crime_y\"]\n",
    ")"
   ]
  },
  {
   "cell_type": "markdown",
   "metadata": {},
   "source": [
    "And we can strengthen our intuition about this perfect correlation by viewing the data structure on NDA:\n",
    "\n",
    "https://nda.nih.gov/data_structure.html?short_name=abcd_ksad501\n",
    "\n",
    "For your own data subset, use the dendrogram to identify highly correlated features. Find those features using the NDA data query and address their correlation in the text box below. It is prepopulated with an example for this subset of features but you should write your own using your selected features."
   ]
  },
  {
   "cell_type": "code",
   "execution_count": 62,
   "metadata": {},
   "outputs": [
    {
     "name": "stdout",
     "output_type": "stream",
     "text": [
      "<class 'pandas.core.frame.DataFrame'>\n",
      "Index: 1000 entries, NDAR_INVD96NU5LH to NDAR_INV01NAYMZH\n",
      "Data columns (total 18 columns):\n",
      " #   Column                Non-Null Count  Dtype         \n",
      "---  ------                --------------  -----         \n",
      " 0   interview_date        1000 non-null   datetime64[ns]\n",
      " 1   interview_age         1000 non-null   int64         \n",
      " 2   sex                   1000 non-null   object        \n",
      " 3   site_id_l             1000 non-null   object        \n",
      " 4   anthroheightcalc      1000 non-null   float64       \n",
      " 5   anthroweightcalc      1000 non-null   float64       \n",
      " 6   neighborhood_crime_y  1000 non-null   float64       \n",
      " 7   ksads_physabuse       1000 non-null   int64         \n",
      " 8   ksads_dv              1000 non-null   int64         \n",
      " 9   fes_conflict          1000 non-null   float64       \n",
      " 10  rsfmri_meanfd         1000 non-null   float64       \n",
      " 11  r_sal_cingop          1000 non-null   float64       \n",
      " 12  r_sal_cingpar         1000 non-null   float64       \n",
      " 13  r_sal_default         1000 non-null   float64       \n",
      " 14  r_sal_dorsattn        1000 non-null   float64       \n",
      " 15  r_sal_frontpar        1000 non-null   float64       \n",
      " 16  r_sal_rsplentmp       1000 non-null   float64       \n",
      " 17  r_sal_ventattn        1000 non-null   float64       \n",
      "dtypes: datetime64[ns](1), float64(12), int64(3), object(2)\n",
      "memory usage: 148.4+ KB\n"
     ]
    }
   ],
   "source": [
    "subset_df.info()"
   ]
  },
  {
   "cell_type": "markdown",
   "metadata": {},
   "source": [
    "***Insert your own explanation below this line.***\n",
    "\n",
    "> The two correlated pairs are:\n",
    "> \n",
    "> - \"r_sal_ventattn\": rsfmri - average correlation between salience network and ventral attention network\n",
    "> - \"r_sal_cingop\": rsfmri - average correlation between salience network and cingulo-opercular network\n",
    "> \n",
    "> and\n",
    "> \n",
    "> - \"r_sal_dorsattn\": rsfmri - average correlation between salience network and dorsal attention network\n",
    "> - \"r_sal_frontpar\": rsfmri - average correlation between salience network and fronto-parietal network\n",
    "> \n",
    "> It seems reasonable to expect high comorbidity in these two pairs of features.\n",
    "> \n",
    "> Additionally, as expected, we see that the one-hot-encoded features for Site ID are well correlated."
   ]
  },
  {
   "cell_type": "markdown",
   "metadata": {},
   "source": [
    "## With great power...\n",
    "\n",
    "Lastly, you can see there are a lot of choices here:\n",
    "- How do you treat ordinal data?\n",
    "- How do you scale or standardize your data?\n",
    "- Which distance metric is most appropriate?\n",
    "- What linkage method should you use for hierarchical clustering?\n",
    "Scipy makes it very easy to do the clustering, but it's up to you to make the choices and understand the implications. \n",
    "\n",
    "One thing you can do to check for internal consistency of your choice of metric is check the [Cophenetic Correlation Coefficient](https://en.wikipedia.org/wiki/Cophenetic_correlation) of your clustering with help of the [`cophenet()`](http://docs.scipy.org/doc/scipy/reference/generated/scipy.cluster.hierarchy.cophenet.html) function. This compares the actual pairwise distances of your data to those computed by the hierarchical clustering. The closer the value is to 1, the better the clustering preserves the original distances.\n",
    "\n",
    "In our case, since `Z` was computed using the Gower distance, which combined the Manhattan (or \"cityblock\") distance for numerical values and the dice distance for categorical values, we will calculate the cophenetic correlation coefficient between our clustering distances and the \"cityblock\" distance using the [`pdist()`](https://docs.scipy.org/doc/scipy/reference/generated/scipy.spatial.distance.pdist.html#scipy.spatial.distance.pdist) function."
   ]
  },
  {
   "cell_type": "code",
   "execution_count": 64,
   "metadata": {},
   "outputs": [
    {
     "name": "stdout",
     "output_type": "stream",
     "text": [
      "Cophenetic correlation coefficient: 0.930119916588146\n"
     ]
    }
   ],
   "source": [
    "c, coph_dists = cophenet(Z, pdist(df_scaled.T.values, \"cityblock\"))\n",
    "print(f\"Cophenetic correlation coefficient: {c}\")"
   ]
  },
  {
   "cell_type": "markdown",
   "metadata": {},
   "source": [
    "And we see that the clustering distances are pretty close to the pairwise Manhattan distances.\n",
    "\n",
    "Compute the cophenetic correlation coefficient for your choice of linkage method and distance metric."
   ]
  }
 ],
 "metadata": {
  "kernelspec": {
   "display_name": "Python 3",
   "language": "python",
   "name": "python3"
  },
  "language_info": {
   "codemirror_mode": {
    "name": "ipython",
    "version": 3
   },
   "file_extension": ".py",
   "mimetype": "text/x-python",
   "name": "python",
   "nbconvert_exporter": "python",
   "pygments_lexer": "ipython3",
   "version": "3.8.6"
  }
 },
 "nbformat": 4,
 "nbformat_minor": 4
}
